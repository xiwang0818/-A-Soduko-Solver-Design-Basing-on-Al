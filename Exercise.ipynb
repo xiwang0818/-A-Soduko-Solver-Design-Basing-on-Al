{
 "cells": [
  {
   "cell_type": "markdown",
   "metadata": {},
   "source": [
    "# Logic Homework"
   ]
  },
  {
   "cell_type": "markdown",
   "metadata": {},
   "source": [
    "## Initialization"
   ]
  },
  {
   "cell_type": "code",
   "execution_count": null,
   "metadata": {},
   "outputs": [],
   "source": [
    "from utils import expr\n",
    "import numpy as np\n",
    "\n",
    "from kb import DpllPropKB, FCPropKB\n",
    "from draw import draw\n",
    "import sudoku_maps as maps\n",
    "from field_var import field_var\n",
    "from ask_solution import ask_solution"
   ]
  },
  {
   "attachments": {
    "Sudoku_pic.png": {
     "image/png": "[encoded data removed]"
    }
   },
   "cell_type": "markdown",
   "metadata": {},
   "source": [
    "##  Sudoku\n",
    "\n",
    "In this exercise we will work with 2x2 sudoku, i.e. sudoku where the numbers of each row, column, and square block go from 1 to 4. Your task is to implement the knowledge basis needed to solve the sudoku, given the sudoku's initial state. \n",
    "\n",
    "![Sudoku_pic.png](attachment:Sudoku_pic.png)\n",
    "\n",
    "The initialized sudoku is given as an array - a np.ndarray to be precise - of shape (4,4), where the first dimension denotes the rows and the second the columns. In other words, $sudoku[x][y]$ contains the number in square xy. \n",
    "The sudoku array contains the following values: 0,1,2,3,4. The number 0 means that the corresponding square is initialized as empty.\n"
   ]
  },
  {
   "cell_type": "code",
   "execution_count": null,
   "metadata": {},
   "outputs": [],
   "source": [
    "# choose a sudoku map: possible values: 1, 2, 3, 4, 5\n",
    "sudoku_index = 1\n",
    "sudoku = getattr(maps, \"sudoku\"+str(sudoku_index))\n",
    "\n",
    "##as you can see, sudoku is a 4x4 array. \n",
    "print('The sudoku array: ', sudoku)\n",
    "\n",
    "##a better overview of the sudoku array\n",
    "print('Pretty print of the sudoku array: ')\n",
    "for row in sudoku:\n",
    "    print(row)\n",
    "#You can access the array elements with sudoku[x][y]\n",
    "print('The number at position 0,0 is ', sudoku[0][0])\n",
    "print('The number at position 1,2 is ', sudoku[1][2])"
   ]
  },
  {
   "cell_type": "markdown",
   "metadata": {},
   "source": [
    "## Knowledge Base generation"
   ]
  },
  {
   "cell_type": "markdown",
   "metadata": {},
   "source": [
    "### Variables:\n",
    "For simplicity, in this homework there is only one variable: \n",
    "\n",
    "$V_{n, x, y}$, which means that at position [x, y] there is number n, with $x= 0, ..., 3$; $y = 0, ..., 3$; and $n = 1, ..., 4$. \n",
    "For example, $V_{2, 1, 2}$ means that the square where the second row and the third column meet contains number two. "
   ]
  },
  {
   "cell_type": "markdown",
   "metadata": {},
   "source": [
    "### The field_var method will help you generate correct  variables:"
   ]
  },
  {
   "cell_type": "code",
   "execution_count": null,
   "metadata": {},
   "outputs": [],
   "source": [
    "###Example\n",
    "#in square 1,2 there is number one \n",
    "V202 = field_var(value=2, x=1, y=2)"
   ]
  },
  {
   "cell_type": "markdown",
   "metadata": {},
   "source": [
    "Always use this method to generate a field variable."
   ]
  },
  {
   "cell_type": "markdown",
   "metadata": {},
   "source": [
    "## Your Knowledge Base\n",
    "\n",
    "Your task is to implement the knowledge basis in order to solve a 2x2 Sudoku, given the initialized sudoku. "
   ]
  },
  {
   "cell_type": "markdown",
   "metadata": {},
   "source": [
    "### The Sudoku must be solved according to the rules:\n",
    "\n",
    " - Valid numbers for each grid square are 1, 2, 3, and 4. \n",
    " - Each row and each column must contain all valid numbers.\n",
    " - Each square block has to contain all the valid numbers within its squares.\n",
    "\n",
    "The initial state of the sudoku is saved in the sudoku variable. "
   ]
  },
  {
   "cell_type": "markdown",
   "metadata": {},
   "source": [
    "### Sample knowledge base generation"
   ]
  },
  {
   "cell_type": "code",
   "execution_count": null,
   "metadata": {},
   "outputs": [],
   "source": [
    "def generate_knowledge_example(initialized_sudoku):\n",
    "    kb = []\n",
    "    ##remember to add the initial state of the sudoku to the knowledge base\n",
    "    if initialized_sudoku[x][y] == 1:\n",
    "        new_proposition = field_var(1,x, y) # V1xy \n",
    "        kb.append(new_proposition)\n",
    "\n",
    "    new_proposition = field_var(1,x, y) + \" | ~\" + field_var(2, x, y) # V1xy ∨ ¬V2xy\n",
    "    kb.append(new_proposition)\n",
    "\n",
    "    new_proposition = field_var(3,1, 1) + \" ==> \" + field_var(3,1, 1) # V311 ==> V311\n",
    "    kb.append(new_proposition)\n",
    "\n",
    "    new_proposition = field_var(2, x, y) + \" & ~\" + field_var(4, x, y) + \" <=> False\" # V2xy ∧ ¬V4xy <=> False\n",
    "    kb.append(new_proposition)\n",
    "\n",
    "    new_proposition = field_var(3,1, 1) + \" <== \" + field_var(3,1, 1) # V311 <== V311\n",
    "    kb.append(new_proposition)\n",
    "\n",
    "\n",
    "    return kb"
   ]
  },
  {
   "cell_type": "markdown",
   "metadata": {},
   "source": [
    "## Your Task\n",
    "\n",
    "Implement the function $generate\\_knowledge$ in $generate\\_knowledge.py$ such that the function takes an initialized sudoku as input and outputs the knowledge basis. \n",
    "\n",
    "Feel free to define in $generate\\_knowledge.py$ any helper function you may need, but do not import any additional modules or packages, otherwise your solution will be marked as failed. This exercise is easily solvable without any additional packages.\n",
    "\n",
    "Refer to the function generate_knowledge_example in the previous cell for correct syntax."
   ]
  },
  {
   "cell_type": "code",
   "execution_count": null,
   "metadata": {},
   "outputs": [],
   "source": [
    "from generate_knowledge import generate_knowledge"
   ]
  },
  {
   "cell_type": "markdown",
   "metadata": {},
   "source": [
    "## Configuration"
   ]
  },
  {
   "cell_type": "markdown",
   "metadata": {},
   "source": [
    "### Choose a knowledge base class:\n",
    "\n",
    "possible values:\n",
    "\n",
    " - \"Dpll\"\n",
    "  - use this knowledge base for dpll proving\n",
    "  - this works for every kind of knowledge base\n",
    "\n",
    "\n",
    " - \"FC\"\n",
    "  - use this knowledge base for proving with forward chaining\n",
    "  - warning: the knowledge base should only contain clauses in the following forms for this to work:\n",
    "     - α & .. & β ==> γ & .. & δ\n",
    "     - α & .. & β <== γ & .. & δ\n",
    "     - α & .. & β <=> γ & .. & δ\n",
    "     - α & .. & β"
   ]
  },
  {
   "cell_type": "code",
   "execution_count": null,
   "metadata": {},
   "outputs": [],
   "source": [
    "# possible values: \"Dpll\", \"FC\"\n",
    "# kb_gen = \"FC\"\n",
    "kb_gen = \"Dpll\"\n",
    "\n",
    "KB = globals()[kb_gen+\"PropKB\"]"
   ]
  },
  {
   "cell_type": "markdown",
   "metadata": {},
   "source": [
    "## Inference\n",
    "\n"
   ]
  },
  {
   "cell_type": "code",
   "execution_count": null,
   "metadata": {},
   "outputs": [],
   "source": [
    "kb = KB() # create empty knowledge base\n",
    "\n",
    "print(\"feed knowledge base with knowledge..\")\n",
    "for str_expr in generate_knowledge(sudoku):\n",
    "    kb.tell(expr(str_expr))\n",
    "\n",
    "# check if the knowledge base is obviosly wrong (you can remove this if it is too slow)\n",
    "print(\"scan knowledge base for contradictions..\")\n",
    "assert not kb.has_contradicting_knowledge()\n"
   ]
  },
  {
   "cell_type": "code",
   "execution_count": null,
   "metadata": {},
   "outputs": [],
   "source": [
    "sudoku_solution = ask_solution(kb)"
   ]
  },
  {
   "cell_type": "code",
   "execution_count": null,
   "metadata": {},
   "outputs": [],
   "source": [
    "print('Pretty print of the sudoku array: ')\n",
    "for row in sudoku_solution:\n",
    "    print(row)\n",
    "    \n",
    "##draw the inferred solution. Initial numbers are in orange, inferred numbers in green. \n",
    "draw(sudoku_solution, sudoku)"
   ]
  }
 ],
 "metadata": {
  "kernelspec": {
   "display_name": "Python 3",
   "language": "python",
   "name": "python3"
  },
  "language_info": {
   "codemirror_mode": {
    "name": "ipython",
    "version": 3
   },
   "file_extension": ".py",
   "mimetype": "text/x-python",
   "name": "python",
   "nbconvert_exporter": "python",
   "pygments_lexer": "ipython3",
   "version": "3.5.5"
  }
 },
 "nbformat": 4,
 "nbformat_minor": 2
}
